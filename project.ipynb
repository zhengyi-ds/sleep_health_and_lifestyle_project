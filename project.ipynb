{
 "cells": [
  {
   "cell_type": "markdown",
   "metadata": {},
   "source": [
    "## Introduction\n"
   ]
  },
  {
   "cell_type": "markdown",
   "metadata": {},
   "source": [
    "The dataset is from https://www.kaggle.com/datasets/siamaktahmasbi/insights-into-sleep-patterns-and-daily-habits. \n",
    "\n",
    "**Project Goal**\n",
    "\n",
    "To investigate patterns in sleep, lifestyle, and health metrics and evaluate the potential for predicting sleep disorders using machine learning.\n",
    "\n",
    "**Research Questions**\n",
    "\n",
    "* What are the characteristics of the dataset?\n",
    "\n",
    "    *Perform data wrangling and exploratory data analysis to understand distributions, outliers, and missing data.*\n",
    "\n",
    "* What patterns exist in health metrics?\n",
    "\n",
    "    *Analyze relationships within cardiovascular health indicators (blood pressure, heart rate) and their connection to sleep quality and disorders.*\n",
    "\n",
    "* What patterns can be observed in lifestyle factors?\n",
    "\n",
    "    *Examine the effects of physical activity, stress levels, and BMI categories on sleep duration and quality.\n",
    "*\n",
    "* Is there a relationship between lifestyle factors and health metrics?\n",
    "\n",
    "    *Investigate whether lifestyle factors like physical activity and stress influence cardiovascular health or BMI.*\n",
    "\n",
    "* Can machine learning models predict the presence of sleep disorders?\n",
    "\n",
    "    *Build and evaluate models using lifestyle and health metrics as features to predict sleep disorders (None, Insomnia, Sleep Apnea).*"
   ]
  },
  {
   "cell_type": "markdown",
   "metadata": {},
   "source": [
    "## Data Wrangling and EDA"
   ]
  },
  {
   "cell_type": "markdown",
   "metadata": {},
   "source": []
  }
 ],
 "metadata": {
  "language_info": {
   "name": "python"
  }
 },
 "nbformat": 4,
 "nbformat_minor": 2
}
